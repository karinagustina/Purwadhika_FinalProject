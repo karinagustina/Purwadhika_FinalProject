{
 "cells": [
  {
   "cell_type": "markdown",
   "metadata": {},
   "source": [
    "### 5. The Best Hotel Recommendation"
   ]
  },
  {
   "cell_type": "code",
   "execution_count": 1,
   "metadata": {},
   "outputs": [],
   "source": [
    "%matplotlib inline\n",
    "import pandas as pd\n",
    "from pandas import read_csv\n",
    "from pandas import datetime\n",
    "import numpy as np\n",
    "from matplotlib import pyplot as plt\n",
    "import math\n",
    "\n",
    "import seaborn as sns\n",
    "\n",
    "import warnings\n",
    "warnings.filterwarnings('ignore')\n",
    "\n",
    "import missingno as msno"
   ]
  },
  {
   "cell_type": "code",
   "execution_count": 2,
   "metadata": {},
   "outputs": [],
   "source": [
    "#Load data dari file pickle Clean_Data\n",
    "data = pd.read_pickle('Clean_Data')"
   ]
  },
  {
   "cell_type": "markdown",
   "metadata": {},
   "source": [
    "#### 5.1 The Total Number of Positive and Negative Reviews"
   ]
  },
  {
   "cell_type": "code",
   "execution_count": 3,
   "metadata": {},
   "outputs": [],
   "source": [
    "data[\"pos_count\"] = 1\n",
    "data[\"neg_count\"] = 1"
   ]
  },
  {
   "cell_type": "code",
   "execution_count": 4,
   "metadata": {},
   "outputs": [],
   "source": [
    "data[\"pos_count\"] = data.apply(lambda x: 0 if x[\"Positive_Review\"] == 'No Positive' else x[\"pos_count\"],axis =1)"
   ]
  },
  {
   "cell_type": "code",
   "execution_count": 5,
   "metadata": {},
   "outputs": [
    {
     "data": {
      "text/plain": [
       "1    479308\n",
       "0     35904\n",
       "Name: pos_count, dtype: int64"
      ]
     },
     "execution_count": 5,
     "metadata": {},
     "output_type": "execute_result"
    }
   ],
   "source": [
    "data[\"pos_count\"].value_counts()"
   ]
  },
  {
   "cell_type": "code",
   "execution_count": 6,
   "metadata": {},
   "outputs": [],
   "source": [
    "data[\"neg_count\"] = data.apply(lambda x: 0 if x[\"Negative_Review\"] == 'No Negative' else x[\"neg_count\"],axis =1)"
   ]
  },
  {
   "cell_type": "code",
   "execution_count": 7,
   "metadata": {},
   "outputs": [
    {
     "data": {
      "text/plain": [
       "1    387455\n",
       "0    127757\n",
       "Name: neg_count, dtype: int64"
      ]
     },
     "execution_count": 7,
     "metadata": {},
     "output_type": "execute_result"
    }
   ],
   "source": [
    "data[\"neg_count\"].value_counts()"
   ]
  },
  {
   "cell_type": "code",
   "execution_count": 8,
   "metadata": {},
   "outputs": [],
   "source": [
    "reviews = pd.DataFrame(data.groupby([\"Hotel_Name\"])[\"pos_count\",\"neg_count\"].sum())"
   ]
  },
  {
   "cell_type": "code",
   "execution_count": 9,
   "metadata": {},
   "outputs": [],
   "source": [
    "reviews[\"Hotel_Name\"] = reviews.index\n",
    "reviews.index = range(reviews.shape[0])"
   ]
  },
  {
   "cell_type": "code",
   "execution_count": 10,
   "metadata": {},
   "outputs": [
    {
     "data": {
      "text/html": [
       "<div>\n",
       "<style scoped>\n",
       "    .dataframe tbody tr th:only-of-type {\n",
       "        vertical-align: middle;\n",
       "    }\n",
       "\n",
       "    .dataframe tbody tr th {\n",
       "        vertical-align: top;\n",
       "    }\n",
       "\n",
       "    .dataframe thead th {\n",
       "        text-align: right;\n",
       "    }\n",
       "</style>\n",
       "<table border=\"1\" class=\"dataframe\">\n",
       "  <thead>\n",
       "    <tr style=\"text-align: right;\">\n",
       "      <th></th>\n",
       "      <th>pos_count</th>\n",
       "      <th>neg_count</th>\n",
       "      <th>Hotel_Name</th>\n",
       "    </tr>\n",
       "  </thead>\n",
       "  <tbody>\n",
       "    <tr>\n",
       "      <th>0</th>\n",
       "      <td>150</td>\n",
       "      <td>113</td>\n",
       "      <td>11 Cadogan Gardens</td>\n",
       "    </tr>\n",
       "    <tr>\n",
       "      <th>1</th>\n",
       "      <td>136</td>\n",
       "      <td>123</td>\n",
       "      <td>1K Hotel</td>\n",
       "    </tr>\n",
       "    <tr>\n",
       "      <th>2</th>\n",
       "      <td>660</td>\n",
       "      <td>459</td>\n",
       "      <td>25hours Hotel beim MuseumsQuartier</td>\n",
       "    </tr>\n",
       "    <tr>\n",
       "      <th>3</th>\n",
       "      <td>103</td>\n",
       "      <td>55</td>\n",
       "      <td>41</td>\n",
       "    </tr>\n",
       "    <tr>\n",
       "      <th>4</th>\n",
       "      <td>28</td>\n",
       "      <td>18</td>\n",
       "      <td>45 Park Lane Dorchester Collection</td>\n",
       "    </tr>\n",
       "  </tbody>\n",
       "</table>\n",
       "</div>"
      ],
      "text/plain": [
       "   pos_count  neg_count                          Hotel_Name\n",
       "0        150        113                  11 Cadogan Gardens\n",
       "1        136        123                            1K Hotel\n",
       "2        660        459  25hours Hotel beim MuseumsQuartier\n",
       "3        103         55                                  41\n",
       "4         28         18  45 Park Lane Dorchester Collection"
      ]
     },
     "execution_count": 10,
     "metadata": {},
     "output_type": "execute_result"
    }
   ],
   "source": [
    "reviews.head()"
   ]
  },
  {
   "cell_type": "code",
   "execution_count": 11,
   "metadata": {},
   "outputs": [],
   "source": [
    "reviews[\"total\"] = reviews[\"pos_count\"] + reviews[\"neg_count\"]"
   ]
  },
  {
   "cell_type": "code",
   "execution_count": 12,
   "metadata": {},
   "outputs": [],
   "source": [
    "data[\"count\"] = 1\n",
    "count_review = data.groupby(\"Hotel_Name\",as_index=False)[\"count\"].sum()"
   ]
  },
  {
   "cell_type": "markdown",
   "metadata": {},
   "source": [
    "#### 5.2 Famous Hotels in Europe (based in the number of reviews)"
   ]
  },
  {
   "cell_type": "code",
   "execution_count": 13,
   "metadata": {},
   "outputs": [],
   "source": [
    "reviews = pd.merge(reviews,count_review,on = \"Hotel_Name\",how = \"left\")"
   ]
  },
  {
   "cell_type": "code",
   "execution_count": 14,
   "metadata": {},
   "outputs": [
    {
     "data": {
      "text/html": [
       "<div>\n",
       "<style scoped>\n",
       "    .dataframe tbody tr th:only-of-type {\n",
       "        vertical-align: middle;\n",
       "    }\n",
       "\n",
       "    .dataframe tbody tr th {\n",
       "        vertical-align: top;\n",
       "    }\n",
       "\n",
       "    .dataframe thead th {\n",
       "        text-align: right;\n",
       "    }\n",
       "</style>\n",
       "<table border=\"1\" class=\"dataframe\">\n",
       "  <thead>\n",
       "    <tr style=\"text-align: right;\">\n",
       "      <th></th>\n",
       "      <th>pos_count</th>\n",
       "      <th>neg_count</th>\n",
       "      <th>Hotel_Name</th>\n",
       "      <th>total</th>\n",
       "      <th>count</th>\n",
       "    </tr>\n",
       "  </thead>\n",
       "  <tbody>\n",
       "    <tr>\n",
       "      <th>0</th>\n",
       "      <td>150</td>\n",
       "      <td>113</td>\n",
       "      <td>11 Cadogan Gardens</td>\n",
       "      <td>263</td>\n",
       "      <td>159</td>\n",
       "    </tr>\n",
       "    <tr>\n",
       "      <th>1</th>\n",
       "      <td>136</td>\n",
       "      <td>123</td>\n",
       "      <td>1K Hotel</td>\n",
       "      <td>259</td>\n",
       "      <td>148</td>\n",
       "    </tr>\n",
       "    <tr>\n",
       "      <th>2</th>\n",
       "      <td>660</td>\n",
       "      <td>459</td>\n",
       "      <td>25hours Hotel beim MuseumsQuartier</td>\n",
       "      <td>1119</td>\n",
       "      <td>689</td>\n",
       "    </tr>\n",
       "    <tr>\n",
       "      <th>3</th>\n",
       "      <td>103</td>\n",
       "      <td>55</td>\n",
       "      <td>41</td>\n",
       "      <td>158</td>\n",
       "      <td>103</td>\n",
       "    </tr>\n",
       "    <tr>\n",
       "      <th>4</th>\n",
       "      <td>28</td>\n",
       "      <td>18</td>\n",
       "      <td>45 Park Lane Dorchester Collection</td>\n",
       "      <td>46</td>\n",
       "      <td>28</td>\n",
       "    </tr>\n",
       "  </tbody>\n",
       "</table>\n",
       "</div>"
      ],
      "text/plain": [
       "   pos_count  neg_count                          Hotel_Name  total  count\n",
       "0        150        113                  11 Cadogan Gardens    263    159\n",
       "1        136        123                            1K Hotel    259    148\n",
       "2        660        459  25hours Hotel beim MuseumsQuartier   1119    689\n",
       "3        103         55                                  41    158    103\n",
       "4         28         18  45 Park Lane Dorchester Collection     46     28"
      ]
     },
     "execution_count": 14,
     "metadata": {},
     "output_type": "execute_result"
    }
   ],
   "source": [
    "reviews.head()"
   ]
  },
  {
   "cell_type": "code",
   "execution_count": 15,
   "metadata": {},
   "outputs": [
    {
     "name": "stdout",
     "output_type": "stream",
     "text": [
      "Britannia International Hotel Canary Wharf\n",
      "Strand Palace Hotel\n",
      "Park Plaza Westminster Bridge London\n",
      "Copthorne Tara Hotel London Kensington\n",
      "DoubleTree by Hilton Hotel London Tower of London\n",
      "Grand Royale London Hyde Park\n",
      "Holiday Inn London Kensington\n",
      "Hilton London Metropole\n",
      "Millennium Gloucester Hotel London\n",
      "Intercontinental London The O2\n"
     ]
    }
   ],
   "source": [
    "for i in reviews.sort_values(by = \"count\",ascending=False)[\"Hotel_Name\"].head(10).values:\n",
    "    print(i)"
   ]
  },
  {
   "cell_type": "code",
   "execution_count": 16,
   "metadata": {},
   "outputs": [],
   "source": [
    "reviews[\"pos_ratio\"] = reviews[\"pos_count\"].astype(\"float\")/reviews[\"total\"].astype(\"float\")"
   ]
  },
  {
   "cell_type": "markdown",
   "metadata": {},
   "source": [
    "#### 5.3 The Positive Hotels Among The Famous Hotels (based on the number of positive reviews of the famous hotels)"
   ]
  },
  {
   "cell_type": "code",
   "execution_count": 17,
   "metadata": {},
   "outputs": [],
   "source": [
    "famous_hotels = reviews.sort_values(by = \"count\",ascending=False).head(100)"
   ]
  },
  {
   "cell_type": "code",
   "execution_count": 18,
   "metadata": {},
   "outputs": [
    {
     "data": {
      "text/html": [
       "<div>\n",
       "<style scoped>\n",
       "    .dataframe tbody tr th:only-of-type {\n",
       "        vertical-align: middle;\n",
       "    }\n",
       "\n",
       "    .dataframe tbody tr th {\n",
       "        vertical-align: top;\n",
       "    }\n",
       "\n",
       "    .dataframe thead th {\n",
       "        text-align: right;\n",
       "    }\n",
       "</style>\n",
       "<table border=\"1\" class=\"dataframe\">\n",
       "  <thead>\n",
       "    <tr style=\"text-align: right;\">\n",
       "      <th></th>\n",
       "      <th>Hotel_Name</th>\n",
       "      <th>Hotel_Address</th>\n",
       "    </tr>\n",
       "  </thead>\n",
       "  <tbody>\n",
       "    <tr>\n",
       "      <th>8301</th>\n",
       "      <td>Grand Royale London Hyde Park</td>\n",
       "      <td>1 Inverness Terrace Westminster Borough London W2 3JP United Kingdom</td>\n",
       "    </tr>\n",
       "    <tr>\n",
       "      <th>14829</th>\n",
       "      <td>Intercontinental London The O2</td>\n",
       "      <td>1 Waterview Drive Greenwich London SE10 0TW United Kingdom</td>\n",
       "    </tr>\n",
       "    <tr>\n",
       "      <th>63942</th>\n",
       "      <td>Britannia International Hotel Canary Wharf</td>\n",
       "      <td>163 Marsh Wall Docklands Tower Hamlets London E14 9SJ United Kingdom</td>\n",
       "    </tr>\n",
       "    <tr>\n",
       "      <th>111930</th>\n",
       "      <td>Hilton London Metropole</td>\n",
       "      <td>225 Edgware Road Westminster Borough London W2 1JU United Kingdom</td>\n",
       "    </tr>\n",
       "    <tr>\n",
       "      <th>164259</th>\n",
       "      <td>Strand Palace Hotel</td>\n",
       "      <td>372 Strand Westminster Borough London WC2R 0JJ United Kingdom</td>\n",
       "    </tr>\n",
       "    <tr>\n",
       "      <th>171770</th>\n",
       "      <td>Millennium Gloucester Hotel London</td>\n",
       "      <td>4 18 Harrington Gardens Kensington and Chelsea London SW7 4LH United Kingdom</td>\n",
       "    </tr>\n",
       "    <tr>\n",
       "      <th>236055</th>\n",
       "      <td>DoubleTree by Hilton Hotel London Tower of London</td>\n",
       "      <td>7 Pepys Street City of London London EC3N 4AF United Kingdom</td>\n",
       "    </tr>\n",
       "    <tr>\n",
       "      <th>440985</th>\n",
       "      <td>Copthorne Tara Hotel London Kensington</td>\n",
       "      <td>Scarsdale Place Kensington Kensington and Chelsea London W8 5SY United Kingdom</td>\n",
       "    </tr>\n",
       "    <tr>\n",
       "      <th>504027</th>\n",
       "      <td>Park Plaza Westminster Bridge London</td>\n",
       "      <td>Westminster Bridge Road Lambeth London SE1 7UT United Kingdom</td>\n",
       "    </tr>\n",
       "    <tr>\n",
       "      <th>512645</th>\n",
       "      <td>Holiday Inn London Kensington</td>\n",
       "      <td>Wrights Lane Kensington and Chelsea London W8 5SP United Kingdom</td>\n",
       "    </tr>\n",
       "  </tbody>\n",
       "</table>\n",
       "</div>"
      ],
      "text/plain": [
       "                                               Hotel_Name  \\\n",
       "8301                        Grand Royale London Hyde Park   \n",
       "14829                      Intercontinental London The O2   \n",
       "63942          Britannia International Hotel Canary Wharf   \n",
       "111930                            Hilton London Metropole   \n",
       "164259                                Strand Palace Hotel   \n",
       "171770                 Millennium Gloucester Hotel London   \n",
       "236055  DoubleTree by Hilton Hotel London Tower of London   \n",
       "440985             Copthorne Tara Hotel London Kensington   \n",
       "504027               Park Plaza Westminster Bridge London   \n",
       "512645                      Holiday Inn London Kensington   \n",
       "\n",
       "                                                                         Hotel_Address  \n",
       "8301              1 Inverness Terrace Westminster Borough London W2 3JP United Kingdom  \n",
       "14829                       1 Waterview Drive Greenwich London SE10 0TW United Kingdom  \n",
       "63942             163 Marsh Wall Docklands Tower Hamlets London E14 9SJ United Kingdom  \n",
       "111930               225 Edgware Road Westminster Borough London W2 1JU United Kingdom  \n",
       "164259                   372 Strand Westminster Borough London WC2R 0JJ United Kingdom  \n",
       "171770    4 18 Harrington Gardens Kensington and Chelsea London SW7 4LH United Kingdom  \n",
       "236055                    7 Pepys Street City of London London EC3N 4AF United Kingdom  \n",
       "440985  Scarsdale Place Kensington Kensington and Chelsea London W8 5SY United Kingdom  \n",
       "504027                   Westminster Bridge Road Lambeth London SE1 7UT United Kingdom  \n",
       "512645                Wrights Lane Kensington and Chelsea London W8 5SP United Kingdom  "
      ]
     },
     "execution_count": 18,
     "metadata": {},
     "output_type": "execute_result"
    }
   ],
   "source": [
    "pd.set_option('display.max_colwidth', 2000)\n",
    "popular = famous_hotels[\"Hotel_Name\"].values[:10]\n",
    "data.loc[data['Hotel_Name'].isin(popular)][[\"Hotel_Name\",\"Hotel_Address\"]].drop_duplicates()"
   ]
  },
  {
   "cell_type": "code",
   "execution_count": 19,
   "metadata": {},
   "outputs": [
    {
     "name": "stdout",
     "output_type": "stream",
     "text": [
      "Hotel Berna\n",
      "Club Quarters Hotel Lincoln s Inn Fields\n",
      "Apex Temple Court Hotel\n",
      "Apex City Of London Hotel\n",
      "Hotel Esther a\n",
      "Urban Lodge Hotel\n",
      "Hilton London Canary Wharf\n",
      "The Piccadilly London West End\n",
      "Shangri La Hotel at The Shard London\n",
      "The Student Hotel Amsterdam City\n"
     ]
    }
   ],
   "source": [
    "for i in famous_hotels.sort_values(by = \"pos_ratio\",ascending=False)[\"Hotel_Name\"].head(10):\n",
    "    print(i)"
   ]
  },
  {
   "cell_type": "code",
   "execution_count": 20,
   "metadata": {},
   "outputs": [
    {
     "data": {
      "text/html": [
       "<div>\n",
       "<style scoped>\n",
       "    .dataframe tbody tr th:only-of-type {\n",
       "        vertical-align: middle;\n",
       "    }\n",
       "\n",
       "    .dataframe tbody tr th {\n",
       "        vertical-align: top;\n",
       "    }\n",
       "\n",
       "    .dataframe thead th {\n",
       "        text-align: right;\n",
       "    }\n",
       "</style>\n",
       "<table border=\"1\" class=\"dataframe\">\n",
       "  <thead>\n",
       "    <tr style=\"text-align: right;\">\n",
       "      <th></th>\n",
       "      <th>Hotel_Name</th>\n",
       "      <th>Hotel_Address</th>\n",
       "    </tr>\n",
       "  </thead>\n",
       "  <tbody>\n",
       "    <tr>\n",
       "      <th>971</th>\n",
       "      <td>Apex Temple Court Hotel</td>\n",
       "      <td>1 2 Serjeant s Inn Fleet Street City of London London EC4Y 1LL United Kingdom</td>\n",
       "    </tr>\n",
       "    <tr>\n",
       "      <th>147504</th>\n",
       "      <td>Shangri La Hotel at The Shard London</td>\n",
       "      <td>31 St Thomas Street Southwark London SE1 9QU United Kingdom</td>\n",
       "    </tr>\n",
       "    <tr>\n",
       "      <th>223782</th>\n",
       "      <td>Club Quarters Hotel Lincoln s Inn Fields</td>\n",
       "      <td>61 Lincoln s Inn Fields Camden London WC2A 3JW United Kingdom</td>\n",
       "    </tr>\n",
       "    <tr>\n",
       "      <th>228012</th>\n",
       "      <td>The Piccadilly London West End</td>\n",
       "      <td>65 73 Shaftesbury Avenue Westminster Borough London W1D 6EX United Kingdom</td>\n",
       "    </tr>\n",
       "    <tr>\n",
       "      <th>273892</th>\n",
       "      <td>Urban Lodge Hotel</td>\n",
       "      <td>Arlandaweg 10 Westpoort 1043 EW Amsterdam Netherlands</td>\n",
       "    </tr>\n",
       "    <tr>\n",
       "      <th>387956</th>\n",
       "      <td>Apex City Of London Hotel</td>\n",
       "      <td>No 1 Seething Lane City of London London EC3N 4AX United Kingdom</td>\n",
       "    </tr>\n",
       "    <tr>\n",
       "      <th>450210</th>\n",
       "      <td>Hotel Esther a</td>\n",
       "      <td>Singel 303 309 Amsterdam City Center 1012 WJ Amsterdam Netherlands</td>\n",
       "    </tr>\n",
       "    <tr>\n",
       "      <th>454064</th>\n",
       "      <td>Hilton London Canary Wharf</td>\n",
       "      <td>South Quay Marsh Wall Tower Hamlets London E14 9SH United Kingdom</td>\n",
       "    </tr>\n",
       "    <tr>\n",
       "      <th>483570</th>\n",
       "      <td>Hotel Berna</td>\n",
       "      <td>Via Napo Torriani 18 Central Station 20124 Milan Italy</td>\n",
       "    </tr>\n",
       "    <tr>\n",
       "      <th>509232</th>\n",
       "      <td>The Student Hotel Amsterdam City</td>\n",
       "      <td>Wibautstraat 129 Oost 1091 GL Amsterdam Netherlands</td>\n",
       "    </tr>\n",
       "  </tbody>\n",
       "</table>\n",
       "</div>"
      ],
      "text/plain": [
       "                                      Hotel_Name  \\\n",
       "971                      Apex Temple Court Hotel   \n",
       "147504      Shangri La Hotel at The Shard London   \n",
       "223782  Club Quarters Hotel Lincoln s Inn Fields   \n",
       "228012            The Piccadilly London West End   \n",
       "273892                         Urban Lodge Hotel   \n",
       "387956                 Apex City Of London Hotel   \n",
       "450210                            Hotel Esther a   \n",
       "454064                Hilton London Canary Wharf   \n",
       "483570                               Hotel Berna   \n",
       "509232          The Student Hotel Amsterdam City   \n",
       "\n",
       "                                                                        Hotel_Address  \n",
       "971     1 2 Serjeant s Inn Fleet Street City of London London EC4Y 1LL United Kingdom  \n",
       "147504                    31 St Thomas Street Southwark London SE1 9QU United Kingdom  \n",
       "223782                  61 Lincoln s Inn Fields Camden London WC2A 3JW United Kingdom  \n",
       "228012     65 73 Shaftesbury Avenue Westminster Borough London W1D 6EX United Kingdom  \n",
       "273892                          Arlandaweg 10 Westpoort 1043 EW Amsterdam Netherlands  \n",
       "387956               No 1 Seething Lane City of London London EC3N 4AX United Kingdom  \n",
       "450210             Singel 303 309 Amsterdam City Center 1012 WJ Amsterdam Netherlands  \n",
       "454064              South Quay Marsh Wall Tower Hamlets London E14 9SH United Kingdom  \n",
       "483570                         Via Napo Torriani 18 Central Station 20124 Milan Italy  \n",
       "509232                            Wibautstraat 129 Oost 1091 GL Amsterdam Netherlands  "
      ]
     },
     "execution_count": 20,
     "metadata": {},
     "output_type": "execute_result"
    }
   ],
   "source": [
    "pos = famous_hotels.sort_values(by = \"pos_ratio\",ascending=False)[\"Hotel_Name\"].head(10).values\n",
    "data.loc[data['Hotel_Name'].isin(pos)][[\"Hotel_Name\",\"Hotel_Address\"]].drop_duplicates()"
   ]
  },
  {
   "cell_type": "markdown",
   "metadata": {},
   "source": [
    "#### 5.4 The Most Consistent Performance Hotels"
   ]
  },
  {
   "cell_type": "code",
   "execution_count": 21,
   "metadata": {},
   "outputs": [],
   "source": [
    "data.Review_Date = pd.to_datetime(data.Review_Date)"
   ]
  },
  {
   "cell_type": "code",
   "execution_count": 22,
   "metadata": {},
   "outputs": [
    {
     "data": {
      "text/plain": [
       "Index(['H10 Casa Mimosa 4 Sup', 'Hotel Casa Camper',\n",
       "       'H tel de La Tamise Esprit de France', 'Le Narcisse Blanc Spa',\n",
       "       'Hotel Eiffel Blomet', '45 Park Lane Dorchester Collection', '41',\n",
       "       'Hotel Stendhal Place Vend me Paris MGallery by Sofitel',\n",
       "       'H tel D Aubusson', 'Hotel The Serras', 'Hotel Am Stephansplatz',\n",
       "       'Lansbury Heritage Hotel', 'Covent Garden Hotel', 'The Soho Hotel',\n",
       "       'Catalonia Magdalenes', 'H tel Saint Paul Rive Gauche',\n",
       "       'Milestone Hotel Kensington', 'Ritz Paris', 'H tel Fabric',\n",
       "       'Le 123 S bastopol Astotel'],\n",
       "      dtype='object', name='Hotel_Name')"
      ]
     },
     "execution_count": 22,
     "metadata": {},
     "output_type": "execute_result"
    }
   ],
   "source": [
    "temp = data.groupby(\"Hotel_Name\", as_index=False)[\"Reviewer_Score\"].agg([np.mean, np.std]).sort_values(\"mean\",ascending=False)\n",
    "temp = temp[temp[\"mean\"] > 8.9]\n",
    "temp.shape\n",
    "temp.sort_values(\"std\").index[0:20]"
   ]
  },
  {
   "cell_type": "code",
   "execution_count": 23,
   "metadata": {},
   "outputs": [
    {
     "data": {
      "text/html": [
       "<div>\n",
       "<style scoped>\n",
       "    .dataframe tbody tr th:only-of-type {\n",
       "        vertical-align: middle;\n",
       "    }\n",
       "\n",
       "    .dataframe tbody tr th {\n",
       "        vertical-align: top;\n",
       "    }\n",
       "\n",
       "    .dataframe thead th {\n",
       "        text-align: right;\n",
       "    }\n",
       "</style>\n",
       "<table border=\"1\" class=\"dataframe\">\n",
       "  <thead>\n",
       "    <tr style=\"text-align: right;\">\n",
       "      <th></th>\n",
       "      <th>Hotel_Name</th>\n",
       "      <th>Hotel_Address</th>\n",
       "      <th>Average_Score</th>\n",
       "    </tr>\n",
       "  </thead>\n",
       "  <tbody>\n",
       "    <tr>\n",
       "      <th>11259</th>\n",
       "      <td>Milestone Hotel Kensington</td>\n",
       "      <td>1 Kensington Court Kensington and Chelsea London W8 5DL United Kingdom</td>\n",
       "      <td>9.5</td>\n",
       "    </tr>\n",
       "    <tr>\n",
       "      <th>20472</th>\n",
       "      <td>Covent Garden Hotel</td>\n",
       "      <td>10 Monmouth Street Camden London WC2H 9HB United Kingdom</td>\n",
       "      <td>9.4</td>\n",
       "    </tr>\n",
       "    <tr>\n",
       "      <th>37337</th>\n",
       "      <td>Lansbury Heritage Hotel</td>\n",
       "      <td>117 Poplar High Street Tower Hamlets London E14 0AE United Kingdom</td>\n",
       "      <td>9.4</td>\n",
       "    </tr>\n",
       "    <tr>\n",
       "      <th>41518</th>\n",
       "      <td>Le 123 S bastopol Astotel</td>\n",
       "      <td>123 boulevard S bastopol 2nd arr 75002 Paris France</td>\n",
       "      <td>9.3</td>\n",
       "    </tr>\n",
       "    <tr>\n",
       "      <th>54717</th>\n",
       "      <td>Ritz Paris</td>\n",
       "      <td>15 Place Vend me 1st arr 75001 Paris France</td>\n",
       "      <td>9.8</td>\n",
       "    </tr>\n",
       "    <tr>\n",
       "      <th>81101</th>\n",
       "      <td>Le Narcisse Blanc Spa</td>\n",
       "      <td>19 Boulevard De La Tour Maubourg 7th arr 75007 Paris France</td>\n",
       "      <td>9.5</td>\n",
       "    </tr>\n",
       "    <tr>\n",
       "      <th>111027</th>\n",
       "      <td>Hotel Stendhal Place Vend me Paris MGallery by Sofitel</td>\n",
       "      <td>22 Rue Danielle Casanova 1st arr 75002 Paris France</td>\n",
       "      <td>8.8</td>\n",
       "    </tr>\n",
       "    <tr>\n",
       "      <th>147195</th>\n",
       "      <td>H tel Fabric</td>\n",
       "      <td>31 rue de la Folie M ricourt 11th arr 75011 Paris France</td>\n",
       "      <td>9.3</td>\n",
       "    </tr>\n",
       "    <tr>\n",
       "      <th>152204</th>\n",
       "      <td>H tel D Aubusson</td>\n",
       "      <td>33 Rue Dauphine 6th arr 75006 Paris France</td>\n",
       "      <td>9.4</td>\n",
       "    </tr>\n",
       "    <tr>\n",
       "      <th>176748</th>\n",
       "      <td>The Soho Hotel</td>\n",
       "      <td>4 Richmond Mews Westminster Borough London W1D 3DH United Kingdom</td>\n",
       "      <td>9.5</td>\n",
       "    </tr>\n",
       "    <tr>\n",
       "      <th>176997</th>\n",
       "      <td>H tel de La Tamise Esprit de France</td>\n",
       "      <td>4 rue d Alger 1st arr 75001 Paris France</td>\n",
       "      <td>9.6</td>\n",
       "    </tr>\n",
       "    <tr>\n",
       "      <th>185602</th>\n",
       "      <td>41</td>\n",
       "      <td>41 Buckingham Palace Road Westminster Borough London SW1W 0PS United Kingdom</td>\n",
       "      <td>9.6</td>\n",
       "    </tr>\n",
       "    <tr>\n",
       "      <th>190062</th>\n",
       "      <td>H tel Saint Paul Rive Gauche</td>\n",
       "      <td>43 rue Monsieur le Prince 6th arr 75006 Paris France</td>\n",
       "      <td>8.9</td>\n",
       "    </tr>\n",
       "    <tr>\n",
       "      <th>191786</th>\n",
       "      <td>45 Park Lane Dorchester Collection</td>\n",
       "      <td>45 Park Lane Westminster Borough London W1K 1PN United Kingdom</td>\n",
       "      <td>9.4</td>\n",
       "    </tr>\n",
       "    <tr>\n",
       "      <th>245310</th>\n",
       "      <td>Hotel Eiffel Blomet</td>\n",
       "      <td>78 Rue Blomet 15th arr 75015 Paris France</td>\n",
       "      <td>9.4</td>\n",
       "    </tr>\n",
       "    <tr>\n",
       "      <th>316447</th>\n",
       "      <td>Hotel Casa Camper</td>\n",
       "      <td>Elisabets 11 Ciutat Vella 08001 Barcelona Spain</td>\n",
       "      <td>9.6</td>\n",
       "    </tr>\n",
       "    <tr>\n",
       "      <th>372994</th>\n",
       "      <td>Catalonia Magdalenes</td>\n",
       "      <td>Magdalenes 13 15 Ciutat Vella 08002 Barcelona Spain</td>\n",
       "      <td>9.4</td>\n",
       "    </tr>\n",
       "    <tr>\n",
       "      <th>398945</th>\n",
       "      <td>Hotel The Serras</td>\n",
       "      <td>Passeig de Colom 9 Ciutat Vella 08002 Barcelona Spain</td>\n",
       "      <td>9.6</td>\n",
       "    </tr>\n",
       "    <tr>\n",
       "      <th>402244</th>\n",
       "      <td>H10 Casa Mimosa 4 Sup</td>\n",
       "      <td>Pau Claris 179 Eixample 08037 Barcelona Spain</td>\n",
       "      <td>9.6</td>\n",
       "    </tr>\n",
       "    <tr>\n",
       "      <th>462731</th>\n",
       "      <td>Hotel Am Stephansplatz</td>\n",
       "      <td>Stephansplatz 9 01 Innere Stadt 1010 Vienna Austria</td>\n",
       "      <td>9.3</td>\n",
       "    </tr>\n",
       "  </tbody>\n",
       "</table>\n",
       "</div>"
      ],
      "text/plain": [
       "                                                    Hotel_Name  \\\n",
       "11259                               Milestone Hotel Kensington   \n",
       "20472                                      Covent Garden Hotel   \n",
       "37337                                  Lansbury Heritage Hotel   \n",
       "41518                                Le 123 S bastopol Astotel   \n",
       "54717                                               Ritz Paris   \n",
       "81101                                    Le Narcisse Blanc Spa   \n",
       "111027  Hotel Stendhal Place Vend me Paris MGallery by Sofitel   \n",
       "147195                                            H tel Fabric   \n",
       "152204                                        H tel D Aubusson   \n",
       "176748                                          The Soho Hotel   \n",
       "176997                     H tel de La Tamise Esprit de France   \n",
       "185602                                                      41   \n",
       "190062                            H tel Saint Paul Rive Gauche   \n",
       "191786                      45 Park Lane Dorchester Collection   \n",
       "245310                                     Hotel Eiffel Blomet   \n",
       "316447                                       Hotel Casa Camper   \n",
       "372994                                    Catalonia Magdalenes   \n",
       "398945                                        Hotel The Serras   \n",
       "402244                                   H10 Casa Mimosa 4 Sup   \n",
       "462731                                  Hotel Am Stephansplatz   \n",
       "\n",
       "                                                                       Hotel_Address  \\\n",
       "11259         1 Kensington Court Kensington and Chelsea London W8 5DL United Kingdom   \n",
       "20472                       10 Monmouth Street Camden London WC2H 9HB United Kingdom   \n",
       "37337             117 Poplar High Street Tower Hamlets London E14 0AE United Kingdom   \n",
       "41518                            123 boulevard S bastopol 2nd arr 75002 Paris France   \n",
       "54717                                    15 Place Vend me 1st arr 75001 Paris France   \n",
       "81101                    19 Boulevard De La Tour Maubourg 7th arr 75007 Paris France   \n",
       "111027                           22 Rue Danielle Casanova 1st arr 75002 Paris France   \n",
       "147195                      31 rue de la Folie M ricourt 11th arr 75011 Paris France   \n",
       "152204                                    33 Rue Dauphine 6th arr 75006 Paris France   \n",
       "176748             4 Richmond Mews Westminster Borough London W1D 3DH United Kingdom   \n",
       "176997                                      4 rue d Alger 1st arr 75001 Paris France   \n",
       "185602  41 Buckingham Palace Road Westminster Borough London SW1W 0PS United Kingdom   \n",
       "190062                          43 rue Monsieur le Prince 6th arr 75006 Paris France   \n",
       "191786                45 Park Lane Westminster Borough London W1K 1PN United Kingdom   \n",
       "245310                                     78 Rue Blomet 15th arr 75015 Paris France   \n",
       "316447                               Elisabets 11 Ciutat Vella 08001 Barcelona Spain   \n",
       "372994                           Magdalenes 13 15 Ciutat Vella 08002 Barcelona Spain   \n",
       "398945                         Passeig de Colom 9 Ciutat Vella 08002 Barcelona Spain   \n",
       "402244                                 Pau Claris 179 Eixample 08037 Barcelona Spain   \n",
       "462731                           Stephansplatz 9 01 Innere Stadt 1010 Vienna Austria   \n",
       "\n",
       "        Average_Score  \n",
       "11259             9.5  \n",
       "20472             9.4  \n",
       "37337             9.4  \n",
       "41518             9.3  \n",
       "54717             9.8  \n",
       "81101             9.5  \n",
       "111027            8.8  \n",
       "147195            9.3  \n",
       "152204            9.4  \n",
       "176748            9.5  \n",
       "176997            9.6  \n",
       "185602            9.6  \n",
       "190062            8.9  \n",
       "191786            9.4  \n",
       "245310            9.4  \n",
       "316447            9.6  \n",
       "372994            9.4  \n",
       "398945            9.6  \n",
       "402244            9.6  \n",
       "462731            9.3  "
      ]
     },
     "execution_count": 23,
     "metadata": {},
     "output_type": "execute_result"
    }
   ],
   "source": [
    "lis = ['H10 Casa Mimosa 4 Sup', 'Hotel Casa Camper',\n",
    "       'H tel de La Tamise Esprit de France', 'Le Narcisse Blanc Spa',\n",
    "       'Hotel Eiffel Blomet', '45 Park Lane Dorchester Collection', '41',\n",
    "       'Hotel Stendhal Place Vend me Paris MGallery by Sofitel',\n",
    "       'H tel D Aubusson', 'Hotel The Serras', 'Hotel Am Stephansplatz',\n",
    "       'Lansbury Heritage Hotel', 'Covent Garden Hotel', 'The Soho Hotel',\n",
    "       'Catalonia Magdalenes', 'H tel Saint Paul Rive Gauche',\n",
    "       'Milestone Hotel Kensington', 'Ritz Paris', 'H tel Fabric',\n",
    "       'Le 123 S bastopol Astotel']\n",
    "data.loc[data['Hotel_Name'].isin(lis)][[\"Hotel_Name\",\"Hotel_Address\",\"Average_Score\"]].drop_duplicates()"
   ]
  }
 ],
 "metadata": {
  "kernelspec": {
   "display_name": "Python 3",
   "language": "python",
   "name": "python3"
  },
  "language_info": {
   "codemirror_mode": {
    "name": "ipython",
    "version": 3
   },
   "file_extension": ".py",
   "mimetype": "text/x-python",
   "name": "python",
   "nbconvert_exporter": "python",
   "pygments_lexer": "ipython3",
   "version": "3.7.2"
  }
 },
 "nbformat": 4,
 "nbformat_minor": 2
}
